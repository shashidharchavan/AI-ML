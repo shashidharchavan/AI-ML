{
 "cells": [
  {
   "cell_type": "code",
   "execution_count": 2,
   "id": "d384d6fd",
   "metadata": {},
   "outputs": [
    {
     "name": "stdout",
     "output_type": "stream",
     "text": [
      "[16595.89154603]\n"
     ]
    },
    {
     "name": "stderr",
     "output_type": "stream",
     "text": [
      "c:\\users\\shashidhar chavan\\appdata\\local\\programs\\python\\python39\\lib\\site-packages\\sklearn\\base.py:450: UserWarning: X does not have valid feature names, but LinearRegression was fitted with feature names\n",
      "  warnings.warn(\n"
     ]
    }
   ],
   "source": [
    "import pandas as pd\n",
    "import os\n",
    "from sklearn import linear_model\n",
    "df=pd.read_csv(r\"C:\\Users\\Shashidhar chavan\\Desktop\\data2.csv\")\n",
    "x=df[['Age','PurchasingPower']]\n",
    "y=df['EstimatedSalary']\n",
    "regr=linear_model.LinearRegression()\n",
    "regr.fit(x,y)\n",
    "predictedPurchasingPower=regr.predict([[32,3000]])\n",
    "print(predictedPurchasingPower)\n"
   ]
  },
  {
   "cell_type": "code",
   "execution_count": 8,
   "id": "776ed6d3",
   "metadata": {
    "scrolled": true
   },
   "outputs": [
    {
     "name": "stdout",
     "output_type": "stream",
     "text": [
      "[169.65749491]\n"
     ]
    },
    {
     "name": "stderr",
     "output_type": "stream",
     "text": [
      "c:\\users\\shashidhar chavan\\appdata\\local\\programs\\python\\python39\\lib\\site-packages\\sklearn\\base.py:450: UserWarning: X does not have valid feature names, but LinearRegression was fitted with feature names\n",
      "  warnings.warn(\n"
     ]
    }
   ],
   "source": [
    "import pandas as pd\n",
    "import os\n",
    "from sklearn import linear_model\n",
    "df=pd.read_csv(r\"C:\\Users\\Shashidhar chavan\\Desktop\\multiple_regression.csv\")\n",
    "x=df[['age','weight']]\n",
    "y=df['systolic']\n",
    "regr=linear_model.LinearRegression()\n",
    "regr.fit(x,y)\n",
    "predictedsystolic=regr.predict([[91,180]])\n",
    "print(predictedsystolic)\n"
   ]
  },
  {
   "cell_type": "code",
   "execution_count": 1,
   "id": "9c48e85a",
   "metadata": {},
   "outputs": [
    {
     "ename": "ModuleNotFoundError",
     "evalue": "No module named 'matplotlib.pyplt'",
     "output_type": "error",
     "traceback": [
      "\u001b[1;31m---------------------------------------------------------------------------\u001b[0m",
      "\u001b[1;31mModuleNotFoundError\u001b[0m                       Traceback (most recent call last)",
      "\u001b[1;32mC:\\Users\\SHASHI~1\\AppData\\Local\\Temp/ipykernel_4696/288176288.py\u001b[0m in \u001b[0;36m<module>\u001b[1;34m\u001b[0m\n\u001b[0;32m      1\u001b[0m \u001b[1;32mimport\u001b[0m \u001b[0mnumpy\u001b[0m \u001b[1;32mas\u001b[0m \u001b[0mnp\u001b[0m\u001b[1;33m\u001b[0m\u001b[1;33m\u001b[0m\u001b[0m\n\u001b[1;32m----> 2\u001b[1;33m \u001b[1;32mimport\u001b[0m \u001b[0mmatplotlib\u001b[0m\u001b[1;33m.\u001b[0m\u001b[0mpyplt\u001b[0m \u001b[1;32mas\u001b[0m \u001b[0mplt\u001b[0m\u001b[1;33m\u001b[0m\u001b[1;33m\u001b[0m\u001b[0m\n\u001b[0m\u001b[0;32m      3\u001b[0m \u001b[1;33m\u001b[0m\u001b[0m\n\u001b[0;32m      4\u001b[0m \u001b[0mn\u001b[0m\u001b[1;33m=\u001b[0m\u001b[0mnp\u001b[0m\u001b[1;33m.\u001b[0m\u001b[0mrandom\u001b[0m\u001b[1;33m(\u001b[0m\u001b[1;36m0.0\u001b[0m\u001b[1;33m,\u001b[0m\u001b[1;36m5.0\u001b[0m\u001b[1;33m,\u001b[0m\u001b[1;36m100\u001b[0m\u001b[1;33m)\u001b[0m\u001b[1;33m\u001b[0m\u001b[1;33m\u001b[0m\u001b[0m\n\u001b[0;32m      5\u001b[0m \u001b[0mplt\u001b[0m\u001b[1;33m.\u001b[0m\u001b[0mhist\u001b[0m\u001b[1;33m(\u001b[0m\u001b[0mn\u001b[0m\u001b[1;33m,\u001b[0m\u001b[1;36m5\u001b[0m\u001b[1;33m)\u001b[0m\u001b[1;33m\u001b[0m\u001b[1;33m\u001b[0m\u001b[0m\n",
      "\u001b[1;31mModuleNotFoundError\u001b[0m: No module named 'matplotlib.pyplt'"
     ]
    }
   ],
   "source": [
    "import numpy as np\n",
    "import matplotlib.pyplt as plt\n",
    "\n",
    "n=np.random(0.0,5.0,100)\n",
    "plt.hist(n,5)\n",
    "print(n)\n",
    "\n",
    "#Pending"
   ]
  },
  {
   "cell_type": "code",
   "execution_count": null,
   "id": "724f8522",
   "metadata": {},
   "outputs": [],
   "source": [
    "#30/9/22"
   ]
  },
  {
   "cell_type": "code",
   "execution_count": 2,
   "id": "da8c0059",
   "metadata": {},
   "outputs": [
    {
     "name": "stdout",
     "output_type": "stream",
     "text": [
      "[0]\n"
     ]
    }
   ],
   "source": [
    "import numpy\n",
    "from sklearn import linear_model\n",
    "#Reshaped for logistic function\n",
    "\n",
    "x=numpy.array([3.78,2.44,2.09,0.14,1.72,1.65,4.92,4.37,4.96,4.52,3.69,5.88]).reshape(-1,1)\n",
    "y=numpy.array([0,0,0,0,0,0,1,1,1,1,1,1])  #0 = benain and 1= malignant\n",
    "\n",
    "logr=linear_model.LogisticRegression()\n",
    "logr.fit(x,y)\n",
    "\n",
    "predicted=logr.predict(numpy.array([3.46]).reshape(-1,1))\n",
    "print(predicted)"
   ]
  },
  {
   "cell_type": "code",
   "execution_count": 21,
   "id": "d406b651",
   "metadata": {},
   "outputs": [
    {
     "name": "stdout",
     "output_type": "stream",
     "text": [
      "[[4.03541657]]\n"
     ]
    }
   ],
   "source": [
    "#Coefficient\n",
    "import numpy\n",
    "from sklearn import linear_model\n",
    "#Reshaped for logistic function\n",
    "\n",
    "x=numpy.array([3.78,2.44,2.09,0.14,1.72,1.65,4.92,4.37,4.96,4.52,3.69,5.88]).reshape(-1,1)\n",
    "y=numpy.array([0,0,0,0,0,0,1,1,1,1,1,1])  #0 = benain and 1= malignant\n",
    "\n",
    "logr=linear_model.LogisticRegression()\n",
    "logr.fit(x,y)\n",
    "\n",
    "log_odds=logr.coef_\n",
    "odds=numpy.exp(log_odds)\n",
    "print(odds)  #The above example tell us that if the tumour increases by 1mm then odds of it being malignant increases by 4x"
   ]
  },
  {
   "cell_type": "code",
   "execution_count": 27,
   "id": "bafa84ef",
   "metadata": {
    "scrolled": true
   },
   "outputs": [
    {
     "name": "stdout",
     "output_type": "stream",
     "text": [
      "[[0.60749955]\n",
      " [0.19268876]\n",
      " [0.12775886]\n",
      " [0.00955221]\n",
      " [0.08038616]\n",
      " [0.07345637]\n",
      " [0.88362743]\n",
      " [0.77901378]\n",
      " [0.88924409]\n",
      " [0.81293497]\n",
      " [0.57719129]\n",
      " [0.96664243]]\n"
     ]
    }
   ],
   "source": [
    "#probability\n",
    "import numpy\n",
    "from sklearn import linear_model\n",
    "#Reshaped for logistic function\n",
    "\n",
    "X=numpy.array([3.78,2.44,2.09,0.14,1.72,1.65,4.92,4.37,4.96,4.52,3.69,5.88]).reshape(-1,1)\n",
    "y=numpy.array([0,0,0,0,0,0,1,1,1,1,1,1])  #0 = benain and 1= malignant\n",
    "\n",
    "logr=linear_model.LogisticRegression()\n",
    "logr.fit(X,y)\n",
    "\n",
    "def logit2prob(logr,X):\n",
    "    log_odds=logr.coef_* X + logr.intercept_\n",
    "    odds=numpy.exp(log_odds)\n",
    "    probability=odds/(1+odds)\n",
    "    return(probability)\n",
    "print(logit2prob(logr,X))"
   ]
  },
  {
   "cell_type": "code",
   "execution_count": 36,
   "id": "9425cc17",
   "metadata": {},
   "outputs": [
    {
     "name": "stdout",
     "output_type": "stream",
     "text": [
      "[0]\n"
     ]
    }
   ],
   "source": [
    "#spam detection\n",
    "import numpy\n",
    "from sklearn import linear_model\n",
    "#Reshaped for logistic function\n",
    "\n",
    "X=numpy.array([10,30,50,70,90,125,160,180,220,240,260,280]).reshape(-1,1)\n",
    "y=numpy.array([0,0,0,0,0,0,1,1,1,1,1,1])  #0 = benain and 1= malignant\n",
    "\n",
    "logr=linear_model.LogisticRegression()\n",
    "logr.fit(X,y)\n",
    "\n",
    "predicted=logr.predict(numpy.array([120]).reshape(-1,1))\n",
    "print(predicted)"
   ]
  },
  {
   "cell_type": "code",
   "execution_count": 38,
   "id": "e271d959",
   "metadata": {
    "scrolled": true
   },
   "outputs": [
    {
     "data": {
      "image/png": "[encoded data removed]",
      "text/plain": [
       "<Figure size 432x288 with 2 Axes>"
      ]
     },
     "metadata": {
      "needs_background": "light"
     },
     "output_type": "display_data"
    }
   ],
   "source": [
    "#Classification model correction\n",
    "#Email spam detection\n",
    "import matplotlib.pyplot as plt\n",
    "import numpy\n",
    "from sklearn import metrics\n",
    "\n",
    "actual=numpy.random.binomial(1,.9,size=1000)\n",
    "predicted=numpy.random.binomial(1,.9,size=1000)\n",
    "\n",
    "confusion_matrix=metrics.confusion_matrix(actual,predicted)\n",
    "on_display=metrics.ConfusionMatrixDisplay(confusion_matrix=confusion_matrix, display_labels=[False, True])\n",
    "\n",
    "on_display.plot()\n",
    "plt.show()\n",
    "\n",
    "#top left = true +\n",
    "#top right = true -\n",
    "#bottom left = false +\n",
    "#bottom right = false -"
   ]
  },
  {
   "cell_type": "code",
   "execution_count": 39,
   "id": "88e9f812",
   "metadata": {},
   "outputs": [
    {
     "name": "stdout",
     "output_type": "stream",
     "text": [
      "0.807\n"
     ]
    }
   ],
   "source": [
    "#Accuracy\n",
    "import numpy\n",
    "from sklearn import metrics\n",
    "\n",
    "actual=numpy.random.binomial(1,.9,size=1000)\n",
    "predicted=numpy.random.binomial(1,.9,size=1000)\n",
    "\n",
    "Accuracy=metrics.accuracy_score(actual, predicted)\n",
    "print(Accuracy)"
   ]
  },
  {
   "cell_type": "code",
   "execution_count": 40,
   "id": "a7f33f0a",
   "metadata": {},
   "outputs": [
    {
     "name": "stdout",
     "output_type": "stream",
     "text": [
      "0.9069767441860465\n"
     ]
    }
   ],
   "source": [
    "#Precision\n",
    "import numpy\n",
    "from sklearn import metrics\n",
    "\n",
    "actual=numpy.random.binomial(1,.9,size=1000)\n",
    "predicted=numpy.random.binomial(1,.9,size=1000)\n",
    "\n",
    "Precision=metrics.precision_score(actual, predicted)\n",
    "print(Precision)"
   ]
  },
  {
   "cell_type": "code",
   "execution_count": 41,
   "id": "f56e8aff",
   "metadata": {},
   "outputs": [
    {
     "name": "stdout",
     "output_type": "stream",
     "text": [
      "0.9021134593993326\n"
     ]
    }
   ],
   "source": [
    "#Sensitivity\n",
    "import numpy\n",
    "from sklearn import metrics\n",
    "\n",
    "actual=numpy.random.binomial(1,.9,size=1000)\n",
    "predicted=numpy.random.binomial(1,.9,size=1000)\n",
    "\n",
    "Sensitivity_recall=metrics.recall_score(actual, predicted)\n",
    "print(Sensitivity_recall)"
   ]
  },
  {
   "cell_type": "code",
   "execution_count": 42,
   "id": "cd55a61b",
   "metadata": {},
   "outputs": [
    {
     "name": "stdout",
     "output_type": "stream",
     "text": [
      "0.02247191011235955\n"
     ]
    }
   ],
   "source": [
    "#Specificity\n",
    "import numpy\n",
    "from sklearn import metrics\n",
    "\n",
    "actual=numpy.random.binomial(1,.9,size=1000)\n",
    "predicted=numpy.random.binomial(1,.9,size=1000)\n",
    "\n",
    "Specificity=metrics.recall_score(actual, predicted, pos_label=0)\n",
    "print(Specificity)"
   ]
  },
  {
   "cell_type": "code",
   "execution_count": 47,
   "id": "dbef7046",
   "metadata": {},
   "outputs": [
    {
     "name": "stdout",
     "output_type": "stream",
     "text": [
      "0.8953553441522104\n"
     ]
    }
   ],
   "source": [
    "#F score\n",
    "import numpy\n",
    "from sklearn import metrics\n",
    "\n",
    "actual=numpy.random.binomial(1,.9,size=1000)\n",
    "predicted=numpy.random.binomial(1,.9,size=1000)\n",
    "\n",
    "F1_score=metrics.f1_score(actual, predicted)\n",
    "print(F1_score)"
   ]
  },
  {
   "cell_type": "code",
   "execution_count": 7,
   "id": "7c059fc5",
   "metadata": {},
   "outputs": [
    {
     "data": {
      "image/png": "[encoded data removed]",
      "text/plain": [
       "<Figure size 432x288 with 1 Axes>"
      ]
     },
     "metadata": {
      "needs_background": "light"
     },
     "output_type": "display_data"
    }
   ],
   "source": [
    "#1/10/22\n",
    "#Clustering (unsupervised learning)\n",
    "\n",
    "#Hierarchical clustering\n",
    "\n",
    "import numpy as np\n",
    "import matplotlib.pyplot as plt\n",
    "\n",
    "x=[4,5,10,4,3,11,14,6,10,12]\n",
    "y=[21,19,24,17,16,25,24,22,21,21]\n",
    "\n",
    "plt.scatter(x,y)\n",
    "plt.show()"
   ]
  },
  {
   "cell_type": "code",
   "execution_count": 3,
   "id": "891a1293",
   "metadata": {},
   "outputs": [
    {
     "data": {
      "image/png": "[encoded data removed]",
      "text/plain": [
       "<Figure size 432x288 with 1 Axes>"
      ]
     },
     "metadata": {
      "needs_background": "light"
     },
     "output_type": "display_data"
    }
   ],
   "source": [
    "#hierarchical clustering\n",
    "\n",
    "import numpy as np\n",
    "import matplotlib.pyplot as plt\n",
    "from scipy.cluster.hierarchy import dendrogram, linkage\n",
    "\n",
    "x=[4,5,10,4,3,11,14,6,10,12]\n",
    "y=[21,19,24,17,16,25,24,22,21,21]\n",
    "\n",
    "data=list(zip(x,y))\n",
    "\n",
    "linkage_data=linkage(data,method='ward',metric='euclidean')\n",
    "dendrogram(linkage_data)\n",
    "plt.show()"
   ]
  },
  {
   "cell_type": "code",
   "execution_count": 9,
   "id": "16809330",
   "metadata": {},
   "outputs": [
    {
     "data": {
      "image/png": "[encoded data removed]",
      "text/plain": [
       "<Figure size 432x288 with 1 Axes>"
      ]
     },
     "metadata": {
      "needs_background": "light"
     },
     "output_type": "display_data"
    }
   ],
   "source": [
    "#Agglomerative clustering\n",
    "\n",
    "import numpy as np\n",
    "import matplotlib.pyplot as plt\n",
    "from sklearn.cluster import AgglomerativeClustering\n",
    "\n",
    "x=[4,5,10,4,3,11,14,6,10,12]\n",
    "y=[21,19,24,17,16,25,24,22,21,21]\n",
    "\n",
    "data=list(zip(x,y))\n",
    "\n",
    "hier_clus=AgglomerativeClustering(n_clusters=2,affinity=\"euclidean\",linkage=\"ward\")\n",
    "labels=hier_clus.fit_predict(data)\n",
    "plt.scatter(x,y,c=labels)\n",
    "plt.show()"
   ]
  },
  {
   "cell_type": "code",
   "execution_count": null,
   "id": "57846633",
   "metadata": {},
   "outputs": [],
   "source": []
  }
 ],
 "metadata": {
  "kernelspec": {
   "display_name": "Python 3 (ipykernel)",
   "language": "python",
   "name": "python3"
  },
  "language_info": {
   "codemirror_mode": {
    "name": "ipython",
    "version": 3
   },
   "file_extension": ".py",
   "mimetype": "text/x-python",
   "name": "python",
   "nbconvert_exporter": "python",
   "pygments_lexer": "ipython3",
   "version": "3.9.6"
  }
 },
 "nbformat": 4,
 "nbformat_minor": 5
}
